{
 "cells": [
  {
   "cell_type": "markdown",
   "metadata": {},
   "source": [
    "1. Matrix Operation"
   ]
  },
  {
   "cell_type": "code",
   "execution_count": 2,
   "metadata": {},
   "outputs": [
    {
     "name": "stdout",
     "output_type": "stream",
     "text": [
      "A+B= [[ 3  1]\n",
      " [-3  7]]\n",
      "A*B= [[ 2 -2]\n",
      " [ 0 12]]\n",
      "3A-2B= [[ 4 -7]\n",
      " [ 6  1]]\n"
     ]
    }
   ],
   "source": [
    "import numpy as np\n",
    "A = np.array([[2, -1], [0, 3]])\n",
    "B = np.array([[1, 2], [-3, 4]])\n",
    "\n",
    "# Matrix addition\n",
    "C = A + B\n",
    "D= A*B\n",
    "E=3*A-2*B\n",
    "\n",
    "# Print the result\n",
    "print(\"A+B=\",C)\n",
    "print(\"A*B=\",D)\n",
    "print(\"3A-2B=\",E)"
   ]
  },
  {
   "cell_type": "markdown",
   "metadata": {},
   "source": [
    "2. Determinants and Inverses  "
   ]
  },
  {
   "cell_type": "code",
   "execution_count": 8,
   "metadata": {},
   "outputs": [
    {
     "name": "stdout",
     "output_type": "stream",
     "text": [
      "Determinant of A: 6.0\n",
      "the matrix is invertible\n",
      "Its inverse is:\n",
      "[[0.5        0.16666667]\n",
      " [0.         0.33333333]]\n"
     ]
    }
   ],
   "source": [
    "import numpy as np\n",
    "import numpy.linalg as LA\n",
    "# Define the matrix\n",
    "A = np.array([[2, -1],[0, 3]])\n",
    "# Compute the determinant\n",
    "determinant = LA.det(A)\n",
    "# Print the result\n",
    "print(\"Determinant of A:\", determinant)\n",
    "if determinant!=0:\n",
    "    print(\"the matrix is invertible\")\n",
    "    print(\"Its inverse is:\")\n",
    "    inverse = LA.inv(A)\n",
    "    print(inverse)\n",
    "else: \n",
    "    print(\"the matrix is non-invertible\")"
   ]
  },
  {
   "cell_type": "markdown",
   "metadata": {},
   "source": [
    "3. Eigenvalues and Eigenvectors  "
   ]
  },
  {
   "cell_type": "code",
   "execution_count": 7,
   "metadata": {},
   "outputs": [
    {
     "name": "stdout",
     "output_type": "stream",
     "text": [
      "Matrix A:\n",
      "[[ 4  1]\n",
      " [-2  1]]\n",
      "\n",
      "Eigenvalue (first):\n",
      "3.0\n",
      "\n",
      "Corresponding Eigenvector:\n",
      "[ 0.70710678 -0.70710678]\n"
     ]
    }
   ],
   "source": [
    "import numpy as np\n",
    "\n",
    "# Define the matrix\n",
    "A = np.array([[4, 1],\n",
    "               [-2, 1]])\n",
    "\n",
    "# Compute eigenvalues and eigenvectors\n",
    "eigenvalues, eigenvectors = np.linalg.eig(A)\n",
    "\n",
    "# Print the results\n",
    "print(\"Matrix A:\")\n",
    "print(A)\n",
    "print(\"\\nEigenvalue (first):\")\n",
    "print(eigenvalues[0])\n",
    "print(\"\\nCorresponding Eigenvector:\")\n",
    "print(eigenvectors[:, 0])"
   ]
  },
  {
   "cell_type": "markdown",
   "metadata": {},
   "source": [
    "4."
   ]
  },
  {
   "cell_type": "code",
   "execution_count": 6,
   "metadata": {},
   "outputs": [
    {
     "name": "stdout",
     "output_type": "stream",
     "text": [
      "Predicted price of car 3:40.00080\n"
     ]
    }
   ],
   "source": [
    "import numpy as np\n",
    "# Define the feature matrix X \n",
    "X=np.array([[1, 4, 1.5, 100],   \n",
    "              [1, 6, 2.0, 150]])  \n",
    "# Define the price vector y\n",
    "y=np.array([20, 30])  \n",
    "X_tp=X.T \n",
    "\n",
    "b=np.linalg.pinv(X_tp@X) @X_tp@y  \n",
    "car3_features=np.array([1, 8, 3.0, 200])  \n",
    "predicted_price=car3_features@b  \n",
    "print(f\"Predicted price of car 3:{predicted_price:.5f}\")"
   ]
  },
  {
   "cell_type": "markdown",
   "metadata": {},
   "source": [
    "Discussion"
   ]
  },
  {
   "cell_type": "markdown",
   "metadata": {},
   "source": [
    "The implementation demonstrates how linear algebra techniques such as the pseudoinverse may handle non-square matrices while maintaining numerical stability in operations. The significance of eigenvalues and eigenvectors in comprehending matrix transformations and sophisticated applications such as dimensionality reduction is highlighted. With possible extensions to bigger datasets and machine learning models, this exercise, taken as a whole, emphasizes the fundamental relevance of linear algebra in data science."
   ]
  },
  {
   "cell_type": "markdown",
   "metadata": {},
   "source": [
    "Conclusion"
   ]
  },
  {
   "cell_type": "markdown",
   "metadata": {},
   "source": [
    "This code uses Python's NumPy library to demonstrate how linear algebra ideas can be used in real-world situations. Important functions like matrix arithmetic, determinants, inverses, and eigenvalue calculations are covered. Furthermore, we were able to calculate a coefficient vector and precisely forecast the price of car3 from a given dataset by utilizing the pseudoinverse. This illustrates how linear algebra can be used in the real world to solve predicted problems and analyze data."
   ]
  }
 ],
 "metadata": {
  "kernelspec": {
   "display_name": "Python 3",
   "language": "python",
   "name": "python3"
  },
  "language_info": {
   "codemirror_mode": {
    "name": "ipython",
    "version": 3
   },
   "file_extension": ".py",
   "mimetype": "text/x-python",
   "name": "python",
   "nbconvert_exporter": "python",
   "pygments_lexer": "ipython3",
   "version": "3.13.1"
  }
 },
 "nbformat": 4,
 "nbformat_minor": 2
}
